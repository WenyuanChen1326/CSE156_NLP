{
 "cells": [
  {
   "cell_type": "markdown",
   "metadata": {
    "id": "PQxvO6dhMvtk"
   },
   "source": [
    "# CSE 156: Statistical NLP UCSD Assignment 2\n",
    "## Exploring Word Vectors (12.5 points + 2 bonus points)\n",
    "### <font color='blue'> Due 11:59pm, Monday April 18, 2022 </font>\n",
    "\n",
    "\n",
    "Before you start, make sure you read the README.txt in the same directory as this notebook.\n",
    "\n",
    "\n",
    "**Notes:** Please make sure to save the notebook as you go along. Submission Instructions are located at the bottom of the notebook."
   ]
  },
  {
   "cell_type": "code",
   "execution_count": 47,
   "metadata": {
    "colab": {
     "base_uri": "https://localhost:8080/"
    },
    "executionInfo": {
     "elapsed": 2041,
     "status": "ok",
     "timestamp": 1649549290401,
     "user": {
      "displayName": "Ndapandula Nakashole",
      "userId": "12501637879061685337"
     },
     "user_tz": 420
    },
    "id": "kCkBxLqTMvtn",
    "outputId": "bfe197d9-3b2f-4d56-d77d-466d8e3ec722"
   },
   "outputs": [],
   "source": [
    "# All Import Statements Defined Here\n",
    "# Note: Do not add to this list.\n",
    "# ----------------\n",
    "\n",
    "import sys\n",
    "assert sys.version_info[0]==3\n",
    "assert sys.version_info[1] >= 5\n",
    "\n",
    "from gensim.models import KeyedVectors\n",
    "from gensim.test.utils import datapath\n",
    "import pprint\n",
    "import matplotlib.pyplot as plt\n",
    "plt.rcParams['figure.figsize'] = [10, 5]\n",
    "import nltk\n",
    "import numpy as np\n",
    "import random\n",
    "import scipy as sp\n",
    "from sklearn.decomposition import PCA\n",
    "from sklearn.decomposition import TruncatedSVD\n",
    "START_TOKEN = '<START>'\n",
    "END_TOKEN = '<END>'\n",
    "\n",
    "np.random.seed(0)\n",
    "random.seed(0)\n",
    "# ----------------"
   ]
  },
  {
   "cell_type": "markdown",
   "metadata": {
    "id": "l4q8E45iMvto"
   },
   "source": [
    "## Word Vectors\n",
    "\n",
    "Word Vectors are often used as a fundamental component for downstream NLP tasks, e.g. question answering, text generation, translation, etc., so it is important to build some intuitions as to their strengths and weaknesses. Here, you will explore word vectors derived from *Word2Vec*. \n",
    "\n",
    "**Note on Terminology:** The terms \"word vectors\" and \"word embeddings\" are often used interchangeably. The term \"embedding\" refers to the fact that we are encoding aspects of a word's meaning in a lower dimensional space. As [Wikipedia](https://en.wikipedia.org/wiki/Word_embedding) states, \"*conceptually it involves a mathematical embedding from a space with one dimension per word to a continuous vector space with a much lower dimension*\"."
   ]
  },
  {
   "cell_type": "markdown",
   "metadata": {
    "id": "fO3hIO8IMvtw"
   },
   "source": [
    "## Word Vectors \n",
    "\n",
    "---\n",
    "\n",
    "\n",
    "\n",
    "We shall explore the embeddings produced by word2vec. Please revisit the class notes and lecture slides for more details on the word2vec algorithm. Paper 1 review due May 4th, involves reading the  [word2vec  paper](https://proceedings.neurips.cc/paper/2013/file/9aa42b31882ec039965f3c4923ce901b-Paper.pdf),  reading it now might help you with this assignment.\n",
    "\n",
    "Run the following cells to load the word2vec vectors into memory. **Note**: If this is your first time to run these cells, i.e. download the embedding model, it will take a couple minutes to run. If you've run these cells before, rerunning them will load the model without redownloading it, which will take about 1 to 2 minutes. In *Colab*, the embeddings are downloaded to the server everytime you restart the notebook). For this reason, you may prefer to work on your local machine where the download only happens once."
   ]
  },
  {
   "cell_type": "code",
   "execution_count": 48,
   "metadata": {
    "id": "bFrL7EjHMvtw"
   },
   "outputs": [],
   "source": [
    "def load_embedding_model():\n",
    "    \"\"\" Load Word2Vec Vectors\n",
    "        Return:\n",
    "            wv_from_bin: All the embeddings\n",
    "    \"\"\"\n",
    "    import gensim.downloader as api\n",
    "    wv_from_bin = api.load(\"word2vec-google-news-300\")\n",
    "\n",
    "    #print(\"Loaded vocab size %i\" % len(wv_from_bin.vocab.keys()))\n",
    "    return wv_from_bin"
   ]
  },
  {
   "cell_type": "code",
   "execution_count": 49,
   "metadata": {
    "colab": {
     "base_uri": "https://localhost:8080/"
    },
    "executionInfo": {
     "elapsed": 797891,
     "status": "ok",
     "timestamp": 1649550154639,
     "user": {
      "displayName": "Ndapandula Nakashole",
      "userId": "12501637879061685337"
     },
     "user_tz": 420
    },
    "id": "aSWjn1UvMvtw",
    "outputId": "6169993d-2930-4fa4-931d-85d07008d4a4"
   },
   "outputs": [],
   "source": [
    "# -----------------------------------\n",
    "# Run Cell to Load Word Vectors\n",
    "# Note: This will take a couple minutes\n",
    "# -----------------------------------\n",
    "wv_from_bin = load_embedding_model()"
   ]
  },
  {
   "cell_type": "markdown",
   "metadata": {
    "id": "cnhwd5uuMvtw"
   },
   "source": [
    "#### Note: If you are receiving a \"reset by peer\" error, rerun the cell to restart the download. "
   ]
  },
  {
   "cell_type": "markdown",
   "metadata": {
    "id": "j1sLJ47CMvtw"
   },
   "source": [
    "\n",
    "### Plot function\n",
    "Let's define a plot function that reduces the vectors from 300-dimensions to 2-dimensions, and visualises them."
   ]
  },
  {
   "cell_type": "code",
   "execution_count": 50,
   "metadata": {
    "id": "gI86TKrUMvtw"
   },
   "outputs": [],
   "source": [
    "def display_pca_scatterplot(model, words=None, sample=0):\n",
    "    if words == None:\n",
    "        if sample > 0:\n",
    "            words = np.random.choice(list(model.key_to_index.keys()), sample)\n",
    "        else:\n",
    "            words = [ word for word in model.vocab ]\n",
    "        \n",
    "    word_vectors = np.array([model[w] for w in words])\n",
    "\n",
    "    twodim = PCA().fit_transform(word_vectors)[:,:2]\n",
    "    \n",
    "    plt.figure(figsize=(10,10))\n",
    "    plt.scatter(twodim[:,0], twodim[:,1], edgecolors='k', c='r')\n",
    "    for word, (x,y) in zip(words, twodim):\n",
    "        plt.text(x+0.05, y+0.05, word)"
   ]
  },
  {
   "cell_type": "markdown",
   "metadata": {
    "id": "AQpvbQDFMvtx"
   },
   "source": [
    "### Question 1: Word2vec Plot Analysis [written] (2 points)\n",
    "\n",
    "Run the cell below to plot the 2D GloVe embeddings for `['barrels', 'bpd', 'ecuador', 'energy', 'industry', 'kuwait', 'oil', 'output', 'petroleum', 'iraq']`.\n",
    "\n",
    "What clusters together in 2-dimensional embedding space? What doesn't cluster together that you think should have?"
   ]
  },
  {
   "cell_type": "code",
   "execution_count": 51,
   "metadata": {
    "colab": {
     "base_uri": "https://localhost:8080/",
     "height": 592
    },
    "executionInfo": {
     "elapsed": 572,
     "status": "ok",
     "timestamp": 1649550972955,
     "user": {
      "displayName": "Ndapandula Nakashole",
      "userId": "12501637879061685337"
     },
     "user_tz": 420
    },
    "id": "hV6LXSCEMvtx",
    "outputId": "340f76a3-70e8-41fb-ea77-6ac0a7ba388a",
    "scrolled": true
   },
   "outputs": [
    {
     "data": {
      "image/png": "[encoded data removed]",
      "text/plain": [
       "<Figure size 720x720 with 1 Axes>"
      ]
     },
     "metadata": {
      "needs_background": "light"
     },
     "output_type": "display_data"
    }
   ],
   "source": [
    "words = ['barrels', 'bpd', 'ecuador', 'energy', 'industry', 'kuwait', 'oil', 'output', 'petroleum', 'iraq']\n",
    "display_pca_scatterplot(wv_from_bin, words)"
   ]
  },
  {
   "cell_type": "markdown",
   "metadata": {
    "id": "0w7xtcUSMvtx"
   },
   "source": [
    "#### <font color=\"red\">Write your answer here.</font>\n",
    "I think country is one cluster such as Iraq, Kuwait. Unit for oil such as barrels and bqd is another cluster. Gas industry related words such as oil, petroleum and output are another cluster. General terms such as industry and energy cluster together. I think Ecuador should get closer to and cluster with Kuwait and Iraq as it's also a country name.\n",
    "\n"
   ]
  },
  {
   "cell_type": "markdown",
   "metadata": {
    "id": "9Ny56x_fMvtx"
   },
   "source": [
    "### Cosine Similarity\n",
    "Now that we have word vectors, we need a way to quantify the similarity between individual words, according to these vectors. One such metric is cosine-similarity. We will be using this to find words that are \"close\" and \"far\" from one another.\n",
    "\n",
    "The [Cosine Similarity](https://en.wikipedia.org/wiki/Cosine_similarity) $s$ between two vectors $p$ and $q$ is defined as:\n",
    "\n",
    "$$s = \\frac{p \\cdot q}{||p|| ||q||}, \\textrm{ where } s \\in [-1, 1] $$ "
   ]
  },
  {
   "cell_type": "markdown",
   "metadata": {
    "id": "JEWzAas1Mvtx"
   },
   "source": [
    "### Question 2: Words with Multiple Meanings (2 points) [code + written] \n",
    "Polysemes and homonyms are words that have more than one meaning (see this [wiki page](https://en.wikipedia.org/wiki/Polysemy) to learn more about the difference between polysemes and homonyms ). Find a word with *at least two different meanings* such that the top-10 most similar words (according to cosine similarity) contain related words from *both* meanings. For example, \"leaves\" has both \"go_away\" and \"a_structure_of_a_plant\" meaning in the top 10, and \"rock\" has both \"music\" and \"stone\". You will probably need to try several polysemous or homonymic words before you find one. \n",
    "\n",
    "Please state the word you discover and the multiple meanings that occur in the top 10. Why do you think many of the polysemous or homonymic words you tried didn't work (i.e. the top-10 most similar words only contain **one** of the meanings of the words)?\n",
    "\n",
    "**Note**: You should use the `wv_from_bin.most_similar(word)` function to get the top 10 similar words. This function ranks all other words in the vocabulary with respect to their cosine similarity to the given word. For further assistance, please check the __[GenSim documentation](https://radimrehurek.com/gensim/models/keyedvectors.html#gensim.models.keyedvectors.FastTextKeyedVectors.most_similar)__."
   ]
  },
  {
   "cell_type": "code",
   "execution_count": 58,
   "metadata": {
    "id": "4kTQ066WMvtx"
   },
   "outputs": [
    {
     "data": {
      "text/plain": [
       "[('falling', 0.6371317505836487),\n",
       " ('falls', 0.6107184290885925),\n",
       " ('drop', 0.591251790523529),\n",
       " ('tumble', 0.5696445107460022),\n",
       " ('rise', 0.5596301555633545),\n",
       " ('plummet', 0.5581283569335938),\n",
       " ('fell', 0.5548586845397949),\n",
       " ('spring', 0.541506826877594),\n",
       " ('Fall', 0.5406967401504517),\n",
       " ('sag', 0.5160202383995056)]"
      ]
     },
     "execution_count": 58,
     "metadata": {},
     "output_type": "execute_result"
    }
   ],
   "source": [
    "    # ------------------\n",
    "    # Write your implementation here.\n",
    "    wv_from_bin.most_similar('fall')\n",
    "    # ------------------"
   ]
  },
  {
   "cell_type": "markdown",
   "metadata": {
    "id": "6D9rhZJc1psV"
   },
   "source": []
  },
  {
   "cell_type": "markdown",
   "metadata": {
    "id": "XVll_55fMvtx"
   },
   "source": [
    "#### <font color=\"red\">Write your answer here.</font>\n",
    "I found fall. fall can mean one of the seasons and that's why we see spring and Fall in the list. Fall can also mean action tumble and that's why we see fall, drop pulmmet in the list too<br>\n",
    "I think one meaning of a specific polysemous words doesn't appear as frequent as the other one thus in the training data there aren't enough data for that meaning.Therefore, the most_similar words would only contain related words for the most frequent meaning for the polysemous word. <br>\n",
    "I think it could also be that among the top 10 similar words, the top ones are variants of the original words that all mean the same, which takes up the spot but didn't contribute to the polysemous. "
   ]
  },
  {
   "cell_type": "markdown",
   "metadata": {
    "id": "A2KRcfnVMvty"
   },
   "source": [
    "### Question 3: Analogies with Word Vectors [written] (2 points)\n",
    "Word vectors have been shown to *sometimes* exhibit the ability to solve analogies. \n",
    "\n",
    "As an example, for the analogy \"man : king :: woman : x\" (read: man is to king as woman is to x), what is x?\n",
    "\n",
    "In the cell below, we show you how to use word vectors to find x using the `most_similar` function from the __[GenSim documentation](https://radimrehurek.com/gensim/models/keyedvectors.html#gensim.models.keyedvectors.KeyedVectors.most_similar)__. The function finds words that are most similar to the words in the `positive` list and most dissimilar from the words in the `negative` list (while omitting the input words, which are often the most similar; see [this paper](https://www.aclweb.org/anthology/N18-2039.pdf)). The answer to the analogy will have the highest cosine similarity (largest returned numerical value)."
   ]
  },
  {
   "cell_type": "code",
   "execution_count": 53,
   "metadata": {
    "id": "YysbnlIWMvty"
   },
   "outputs": [
    {
     "name": "stdout",
     "output_type": "stream",
     "text": [
      "[('queen', 0.7118193507194519),\n",
      " ('monarch', 0.6189674735069275),\n",
      " ('princess', 0.5902431011199951),\n",
      " ('crown_prince', 0.5499460697174072),\n",
      " ('prince', 0.5377321243286133),\n",
      " ('kings', 0.5236844420433044),\n",
      " ('Queen_Consort', 0.5235945582389832),\n",
      " ('queens', 0.518113374710083),\n",
      " ('sultan', 0.5098593831062317),\n",
      " ('monarchy', 0.5087411999702454)]\n"
     ]
    }
   ],
   "source": [
    "# Run this cell to answer the analogy -- man : king :: woman : x\n",
    "pprint.pprint(wv_from_bin.most_similar(positive=['woman', 'king'], negative=['man']))"
   ]
  },
  {
   "cell_type": "markdown",
   "metadata": {
    "id": "OOezwAj0Mvty"
   },
   "source": [
    "Let $m$, $k$, $w$, and $x$ denote the word vectors for `man`, `king`, `woman`, and the answer, respectively. Using **only** vectors $m$, $k$, $w$, and the vector arithmetic operators $+$ and $-$ in your answer, what is the expression in which we are maximizing cosine similarity with $x$?"
   ]
  },
  {
   "cell_type": "markdown",
   "metadata": {
    "id": "xeJ07PABMvty"
   },
   "source": [
    "#### <font color=\"red\">Write your answer here.</font>\n",
    "k-m+w"
   ]
  },
  {
   "cell_type": "markdown",
   "metadata": {
    "id": "NaHnrgCeMvty"
   },
   "source": [
    "### Question 4: Finding Analogies [code + written]  (1 point)\n",
    "Find an example of analogy that holds according to these vectors (i.e. the intended word is ranked top). In your solution please state the full analogy in the form x:y :: a:b. If you believe the analogy you came up might not be obvious to the TAs, explain why the analogy holds in one or two sentences.\n",
    "\n",
    "**Note**: You may have to try many analogies to find one that works!"
   ]
  },
  {
   "cell_type": "code",
   "execution_count": 62,
   "metadata": {
    "id": "EpcYBn5yMvty"
   },
   "outputs": [
    {
     "name": "stdout",
     "output_type": "stream",
     "text": [
      "[('Beijing', 0.8216201663017273),\n",
      " ('Shanghai', 0.7951419949531555),\n",
      " ('Guangzhou', 0.6529654860496521),\n",
      " ('Beijng', 0.6465169787406921),\n",
      " ('Chinese', 0.6439486742019653),\n",
      " ('Shenzhen', 0.6439114809036255),\n",
      " ('Hong_Kong', 0.6337778568267822),\n",
      " ('Taipei', 0.6317877769470215),\n",
      " ('Chongqing', 0.6239100098609924),\n",
      " ('Hangzhou', 0.6204276084899902)]\n"
     ]
    }
   ],
   "source": [
    "    # ------------------\n",
    "    # Write your implementation here.\n",
    "\n",
    "pprint.pprint(wv_from_bin.most_similar(positive=['China', 'Tokyo'], negative=['Japan']))\n",
    "    # ------------------"
   ]
  },
  {
   "cell_type": "markdown",
   "metadata": {
    "id": "Fhwe3RO-Mvty"
   },
   "source": [
    "#### <font color=\"red\">Write your answer here.</font>\n",
    "Tokyo:Japan :: Beijing: China. I tried to want the capital of China which is Beijing, in analogy to Japan and Tokyo"
   ]
  },
  {
   "cell_type": "markdown",
   "metadata": {
    "id": "se6pOUqQMvtz"
   },
   "source": [
    "### Question 5: Incorrect Analogy [code + written] (2 point)\n",
    "Find an example of analogy that does *not* hold according to these vectors. In your solution, state the intended analogy in the form x:y :: a:b, and state the (incorrect) value of b according to the word vectors."
   ]
  },
  {
   "cell_type": "code",
   "execution_count": 84,
   "metadata": {
    "id": "nuZg40J8Mvtz"
   },
   "outputs": [
    {
     "name": "stdout",
     "output_type": "stream",
     "text": [
      "[('puppy', 0.49447813630104065),\n",
      " ('dogs', 0.47720712423324585),\n",
      " ('pup', 0.45177432894706726),\n",
      " ('golden_retriever', 0.44033271074295044),\n",
      " ('Dog', 0.43949854373931885),\n",
      " ('black_Labrador_retriever', 0.4351273477077484),\n",
      " ('German_shepherd', 0.42699480056762695),\n",
      " ('barks', 0.4132434129714966),\n",
      " ('pooch', 0.408460795879364),\n",
      " ('puppyhood', 0.40548965334892273)]\n"
     ]
    }
   ],
   "source": [
    "    # ------------------\n",
    "    # Write your implementation here\n",
    "    pprint.pprint(wv_from_bin.most_similar(positive=['dog', 'croaks'], negative=['toad']))\n",
    "\n",
    "    # ------------------"
   ]
  },
  {
   "cell_type": "markdown",
   "metadata": {
    "id": "jvmrmj2oMvtz"
   },
   "source": [
    "#### <font color=\"red\">Write your answer here.</font>\n",
    "The intended pair is toad:croaks :: dog barks<br>\n",
    "B is bark.<br>\n",
    "I'm using word vectors to find the behavior word specific to the animal. For example if toad is croaks, dog can be barks or wags. However the top words are not even verbs but similar nouns to dogs. Thus this is am example of incorrect analogy"
   ]
  },
  {
   "cell_type": "markdown",
   "metadata": {
    "id": "HDyys-8DMvtz"
   },
   "source": [
    "### Question 6: Guided Analysis of Bias in Word Vectors [written] (2 point)\n",
    "\n",
    "It's important to be cognizant of the biases (gender, race, sexual orientation etc.) implicit in our word embeddings. Bias can be dangerous because it can reinforce stereotypes through applications that employ these models.\n",
    "\n",
    "Run the cell below, to examine (a) which terms are most similar to \"woman\" and \"worker\" and most dissimilar to \"man\", and (b) which terms are most similar to \"man\" and \"worker\" and most dissimilar to \"woman\". Point out the difference between the list of female-associated words and the list of male-associated words, and explain how it is reflecting gender bias."
   ]
  },
  {
   "cell_type": "code",
   "execution_count": 56,
   "metadata": {
    "id": "mTyRfo1DMvtz"
   },
   "outputs": [
    {
     "name": "stdout",
     "output_type": "stream",
     "text": [
      "[('workers', 0.6582455635070801),\n",
      " ('employee', 0.5805293917655945),\n",
      " ('nurse', 0.5249922275543213),\n",
      " ('receptionist', 0.5142489671707153),\n",
      " ('migrant_worker', 0.5001609921455383),\n",
      " ('Worker', 0.4979270398616791),\n",
      " ('housewife', 0.48609834909439087),\n",
      " ('registered_nurse', 0.4846191108226776),\n",
      " ('laborer', 0.48437267541885376),\n",
      " ('coworker', 0.48212409019470215)]\n",
      "\n",
      "[('workers', 0.5590360164642334),\n",
      " ('laborer', 0.54481041431427),\n",
      " ('foreman', 0.5192232131958008),\n",
      " ('Worker', 0.5161596536636353),\n",
      " ('employee', 0.5094279646873474),\n",
      " ('electrician', 0.49481216073036194),\n",
      " ('janitor', 0.48718899488449097),\n",
      " ('bricklayer', 0.4825313091278076),\n",
      " ('carpenter', 0.47498995065689087),\n",
      " ('workman', 0.4642517864704132)]\n"
     ]
    }
   ],
   "source": [
    "# Run this cell\n",
    "# Here `positive` indicates the list of words to be similar to and `negative` indicates the list of words to be\n",
    "# most dissimilar from.\n",
    "pprint.pprint(wv_from_bin.most_similar(positive=['woman', 'worker'], negative=['man']))\n",
    "print()\n",
    "pprint.pprint(wv_from_bin.most_similar(positive=['man', 'worker'], negative=['woman']))"
   ]
  },
  {
   "cell_type": "markdown",
   "metadata": {
    "id": "N1t37qzjMvtz"
   },
   "source": [
    "#### <font color=\"red\">Write your answer here.</font>\n",
    "When we look for woman-occupations, the list indicates(registered)nurse, housewife, receptionist, migrant_worker and coworker are most similar to woman while for man-occupations, foreman, electrician, janitor,  bricklayer, carpenter and workman are most similar to man. These conforms to social stereotype and expection for different genders. For example, women are associated with jobs indoor and requiring less physical power while men are with jobs requuire more physical power and outdoor. I think this difference reflects gender bias because it refelcts the social expectation and stereotype for different genders. I think when training the corpus, jobs such as nurse and receptionist coappear more with female in the corpus because women are expected to fulfill such indoor jobs while men are expected to do jobs with leadership such as foremand and with physical strength like bricklayer. Thus these two lists reflect the gender bias in workplace"
   ]
  },
  {
   "cell_type": "markdown",
   "metadata": {
    "id": "PI5PRZVYMvtz"
   },
   "source": [
    "### Question 7: Independent Analysis of Bias in Word Vectors [code + written]  ( 1.5 point)\n",
    "\n",
    "Use the `most_similar` function to find another case where some bias is exhibited by the vectors. Please briefly explain the example of bias that you discover."
   ]
  },
  {
   "cell_type": "code",
   "execution_count": 57,
   "metadata": {
    "id": "fW5_tJNeMvtz"
   },
   "outputs": [
    {
     "name": "stdout",
     "output_type": "stream",
     "text": [
      "[('workers', 0.566972553730011),\n",
      " ('laborer', 0.4886777102947235),\n",
      " ('employee', 0.47609761357307434),\n",
      " ('Worker', 0.4466555714607239),\n",
      " ('migrant_worker', 0.4337000846862793),\n",
      " ('electrician', 0.43322888016700745),\n",
      " ('manual_laborer', 0.41811051964759827),\n",
      " ('mineworker', 0.41758155822753906),\n",
      " ('ironworker', 0.4103507697582245),\n",
      " ('carpenter', 0.4076002836227417)]\n",
      "\n",
      "[('workers', 0.5764017105102539),\n",
      " ('employee', 0.5437594652175903),\n",
      " ('Worker', 0.4991253614425659),\n",
      " ('forklift_operator', 0.47370877861976624),\n",
      " ('laborer', 0.47304514050483704),\n",
      " ('supervisor', 0.4569508135318756),\n",
      " ('coworker', 0.44874605536460876),\n",
      " ('crane_operator', 0.4459839165210724),\n",
      " ('migrant_worker', 0.43697965145111084),\n",
      " ('superviser', 0.42401862144470215)]\n"
     ]
    }
   ],
   "source": [
    "    # ------------------\n",
    "    # Write your implementation here.\n",
    "pprint.pprint(wv_from_bin.most_similar(positive=['Black', 'worker'], negative=['White']))\n",
    "print()\n",
    "pprint.pprint(wv_from_bin.most_similar(positive=['White', 'worker'], negative=['Black']))\n",
    "\n",
    "\n",
    "    # ------------------"
   ]
  },
  {
   "cell_type": "markdown",
   "metadata": {
    "id": "ArSm9i1rMvt0"
   },
   "source": [
    "#### <font color=\"red\">Write your answer here.</font>\n",
    "I tried to explore race bias in workplace. For Black worker, the list returns manual_laborer, mineworker, ironworker and carpentet, while for White worker, the list returns forklife_operator, supervisor, coworker, crane_operator and superviser. The difference in the output refelcts the race bias where workers of black race are associated with manual labor that has minimum pay but requires more labor while workers of white race are assocaited with skilled jobs such as forklift and crane operator that have higher pay and require less physical power. Also, only superviser is associated with white worker, which can further demonstrates the race bias."
   ]
  },
  {
   "cell_type": "markdown",
   "metadata": {
    "id": "bL9C0xPyMvt0"
   },
   "source": [
    "### Question 8: Thinking About Bias [written] (Bonus: 2 points)\n",
    "\n",
    "Give one explanation of how bias gets into the word vectors. What is an experiment that you could do to test for or to measure this source of bias?"
   ]
  },
  {
   "cell_type": "markdown",
   "metadata": {
    "id": "CSbxt9EYMvt0"
   },
   "source": [
    "#### <font color=\"red\">Write your answer here.</font>\n",
    "One explanation of how bias get into the word vectors would be the input of the data that the model is trained on. The contexts of a gender/race neutral word acquire stereotype and impose on that word and then incoporate the bias in the word vector. For example, word nurse coappear more frequent with feamle context than male context.To measure the source of bias, we can plot the word vector in space to see if there is any stereotypical clustering and paring similar to the appropriate clustering and pairng. For example, if we see doctor and nurse correlate the same way as men and women, we know there is gender bias in the word-embedding. "
   ]
  },
  {
   "cell_type": "markdown",
   "metadata": {
    "id": "nx4fdrswMvt0"
   },
   "source": [
    "# <font color=\"blue\"> Submission Instructions</font>\n",
    "\n",
    "1. Click the Save button at the top of the Jupyter Notebook.\n",
    "2. Select Cell -> All Output -> Clear. This will clear all the outputs from all cells (but will keep the content of all cells). \n",
    "2. Select Cell -> Run All. This will run all the cells in order, and will take several minutes.\n",
    "3. Once you've rerun everything, select File -> Download as -> PDF via LaTeX (If you have trouble using \"PDF via LaTex\", you can also save the webpage as pdf. <font color='blue'> Make sure all your solutions especially the coding parts are displayed in the pdf</font>, it's okay if the provided codes get cut off because lines are not wrapped in code cells).\n",
    "4. Look at the PDF file and make sure all your solutions are there, displayed correctly. The PDF is the only thing your graders will see!\n",
    "5. Submit your PDF on Gradescope.\n",
    "\n",
    "\n",
    "#### <font color=\"blue\"> Acknowledgements</font>\n",
    "This assignment is based on an assignment developed by Chris Manning"
   ]
  }
 ],
 "metadata": {
  "anaconda-cloud": {},
  "colab": {
   "collapsed_sections": [
    "cnhwd5uuMvtw",
    "0w7xtcUSMvtx",
    "9Ny56x_fMvtx",
    "XVll_55fMvtx",
    "xeJ07PABMvty",
    "NaHnrgCeMvty",
    "Fhwe3RO-Mvty",
    "se6pOUqQMvtz",
    "jvmrmj2oMvtz",
    "HDyys-8DMvtz",
    "N1t37qzjMvtz",
    "ArSm9i1rMvt0",
    "bL9C0xPyMvt0",
    "CSbxt9EYMvt0"
   ],
   "name": "CSE156_Assignment2.ipynb",
   "provenance": []
  },
  "kernelspec": {
   "display_name": "Python 3",
   "language": "python",
   "name": "python3"
  },
  "language_info": {
   "codemirror_mode": {
    "name": "ipython",
    "version": 3
   },
   "file_extension": ".py",
   "mimetype": "text/x-python",
   "name": "python",
   "nbconvert_exporter": "python",
   "pygments_lexer": "ipython3",
   "version": "3.8.5"
  }
 },
 "nbformat": 4,
 "nbformat_minor": 1
}
